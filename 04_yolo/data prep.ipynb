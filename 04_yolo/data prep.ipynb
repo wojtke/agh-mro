{
 "cells": [
  {
   "cell_type": "code",
   "execution_count": 10,
   "id": "7fb3c8ee-d919-49be-b4d2-aec895dcfd9c",
   "metadata": {},
   "outputs": [],
   "source": [
    "import pandas as pd\n",
    "import os"
   ]
  },
  {
   "cell_type": "code",
   "execution_count": 11,
   "id": "39997c43-0b51-405b-b4ce-dc26e7da6e8c",
   "metadata": {},
   "outputs": [
    {
     "name": "stdout",
     "output_type": "stream",
     "text": [
      "/root/wojtek/mro/mro_yolo\n",
      "mkdir: cannot create directory ‘OID_mid’: File exists\n",
      "/root/wojtek/mro/mro_yolo/OID_mid\n"
     ]
    }
   ],
   "source": [
    "%cd /root/wojtek/mro/mro_yolo\n",
    "%mkdir OID_mid\n",
    "%cd OID_mid"
   ]
  },
  {
   "cell_type": "code",
   "execution_count": 12,
   "id": "8b440622-85c5-4bb2-894f-a43d446bfa90",
   "metadata": {
    "scrolled": true
   },
   "outputs": [
    {
     "name": "stdout",
     "output_type": "stream",
     "text": [
      "--2023-11-23 01:08:41--  https://raw.githubusercontent.com/openimages/dataset/master/downloader.py\n",
      "Resolving raw.githubusercontent.com (raw.githubusercontent.com)... 185.199.111.133, 185.199.108.133, 185.199.110.133, ...\n",
      "Connecting to raw.githubusercontent.com (raw.githubusercontent.com)|185.199.111.133|:443... connected.\n",
      "HTTP request sent, awaiting response... 200 OK\n",
      "Length: 4244 (4.1K) [text/plain]\n",
      "Saving to: ‘downloader.py.1’\n",
      "\n",
      "downloader.py.1     100%[===================>]   4.14K  --.-KB/s    in 0s      \n",
      "\n",
      "2023-11-23 01:08:41 (19.0 MB/s) - ‘downloader.py.1’ saved [4244/4244]\n",
      "\n",
      "--2023-11-23 01:08:42--  https://storage.googleapis.com/openimages/v7/oidv7-class-descriptions-boxable.csv\n",
      "Resolving storage.googleapis.com (storage.googleapis.com)... 216.58.213.123, 142.251.141.59, 216.58.212.59, ...\n",
      "Connecting to storage.googleapis.com (storage.googleapis.com)|216.58.213.123|:443... connected.\n",
      "HTTP request sent, awaiting response... 200 OK\n",
      "Length: 12064 (12K) [text/csv]\n",
      "Saving to: ‘oidv7-class-descriptions-boxable.csv.1’\n",
      "\n",
      "oidv7-class-descrip 100%[===================>]  11.78K  --.-KB/s    in 0.004s  \n",
      "\n",
      "2023-11-23 01:08:42 (2.93 MB/s) - ‘oidv7-class-descriptions-boxable.csv.1’ saved [12064/12064]\n",
      "\n",
      "--2023-11-23 01:08:42--  https://storage.googleapis.com/openimages/v6/oidv6-train-annotations-bbox.csv\n",
      "Resolving storage.googleapis.com (storage.googleapis.com)... 216.58.212.59, 172.217.169.123, 142.250.187.155, ...\n",
      "Connecting to storage.googleapis.com (storage.googleapis.com)|216.58.212.59|:443... connected.\n",
      "HTTP request sent, awaiting response... 200 OK\n",
      "Length: 2258447590 (2.1G) [text/csv]\n",
      "Saving to: ‘oidv6-train-annotations-bbox.csv.1’\n",
      "\n",
      "n-annotations-bbox.   4%[                    ] 106.83M  31.9MB/s    eta 78s    ^C\n",
      "--2023-11-23 01:08:47--  https://storage.googleapis.com/openimages/v5/validation-annotations-bbox.csv\n",
      "Resolving storage.googleapis.com (storage.googleapis.com)... 142.250.187.123, 216.58.213.123, 142.251.140.27, ...\n",
      "Connecting to storage.googleapis.com (storage.googleapis.com)|142.250.187.123|:443... connected.\n",
      "HTTP request sent, awaiting response... 200 OK\n",
      "Length: 25105048 (24M) [text/csv]\n",
      "Saving to: ‘validation-annotations-bbox.csv.1’\n",
      "\n",
      "validation-annotati 100%[===================>]  23.94M  16.3MB/s    in 1.5s    \n",
      "\n",
      "2023-11-23 01:08:49 (16.3 MB/s) - ‘validation-annotations-bbox.csv.1’ saved [25105048/25105048]\n",
      "\n"
     ]
    }
   ],
   "source": [
    "# download annotation files\n",
    "\n",
    "!wget https://raw.githubusercontent.com/openimages/dataset/master/downloader.py\n",
    "!wget https://storage.googleapis.com/openimages/v7/oidv7-class-descriptions-boxable.csv\n",
    "!wget https://storage.googleapis.com/openimages/v6/oidv6-train-annotations-bbox.csv\n",
    "!wget https://storage.googleapis.com/openimages/v5/validation-annotations-bbox.csv"
   ]
  },
  {
   "cell_type": "code",
   "execution_count": 13,
   "id": "7f1201d4-f600-44fa-a743-15f41d89b019",
   "metadata": {},
   "outputs": [
    {
     "data": {
      "text/plain": [
       "'/m/02wbm'"
      ]
     },
     "execution_count": 13,
     "metadata": {},
     "output_type": "execute_result"
    }
   ],
   "source": [
    "class_descriptions = pd.read_csv(\"oidv7-class-descriptions-boxable.csv\")\n",
    "\n",
    "food_label = class_descriptions[class_descriptions[\"DisplayName\"] == \"Food\"][\"LabelName\"].values[0]\n",
    "food_label"
   ]
  },
  {
   "cell_type": "code",
   "execution_count": 14,
   "id": "56f3e850-ff76-4e75-8780-0d707ee9e340",
   "metadata": {},
   "outputs": [
    {
     "data": {
      "text/html": [
       "<div>\n",
       "<style scoped>\n",
       "    .dataframe tbody tr th:only-of-type {\n",
       "        vertical-align: middle;\n",
       "    }\n",
       "\n",
       "    .dataframe tbody tr th {\n",
       "        vertical-align: top;\n",
       "    }\n",
       "\n",
       "    .dataframe thead th {\n",
       "        text-align: right;\n",
       "    }\n",
       "</style>\n",
       "<table border=\"1\" class=\"dataframe\">\n",
       "  <thead>\n",
       "    <tr style=\"text-align: right;\">\n",
       "      <th></th>\n",
       "      <th>ImageID</th>\n",
       "      <th>Source</th>\n",
       "      <th>LabelName</th>\n",
       "      <th>Confidence</th>\n",
       "      <th>XMin</th>\n",
       "      <th>XMax</th>\n",
       "      <th>YMin</th>\n",
       "      <th>YMax</th>\n",
       "      <th>IsOccluded</th>\n",
       "      <th>IsTruncated</th>\n",
       "      <th>IsGroupOf</th>\n",
       "      <th>IsDepiction</th>\n",
       "      <th>IsInside</th>\n",
       "    </tr>\n",
       "  </thead>\n",
       "  <tbody>\n",
       "    <tr>\n",
       "      <th>132329</th>\n",
       "      <td>6f700bc8da18e376</td>\n",
       "      <td>xclick</td>\n",
       "      <td>/m/02wbm</td>\n",
       "      <td>1</td>\n",
       "      <td>0.018945</td>\n",
       "      <td>1.000000</td>\n",
       "      <td>0.069880</td>\n",
       "      <td>1.000000</td>\n",
       "      <td>0</td>\n",
       "      <td>1</td>\n",
       "      <td>0</td>\n",
       "      <td>0</td>\n",
       "      <td>0</td>\n",
       "    </tr>\n",
       "    <tr>\n",
       "      <th>71212</th>\n",
       "      <td>3bd62655fafb1274</td>\n",
       "      <td>xclick</td>\n",
       "      <td>/m/02wbm</td>\n",
       "      <td>1</td>\n",
       "      <td>0.090625</td>\n",
       "      <td>0.889062</td>\n",
       "      <td>0.100000</td>\n",
       "      <td>0.939583</td>\n",
       "      <td>0</td>\n",
       "      <td>0</td>\n",
       "      <td>0</td>\n",
       "      <td>0</td>\n",
       "      <td>1</td>\n",
       "    </tr>\n",
       "    <tr>\n",
       "      <th>117888</th>\n",
       "      <td>6340c116815797cb</td>\n",
       "      <td>xclick</td>\n",
       "      <td>/m/02wbm</td>\n",
       "      <td>1</td>\n",
       "      <td>0.000000</td>\n",
       "      <td>1.000000</td>\n",
       "      <td>0.000000</td>\n",
       "      <td>0.931250</td>\n",
       "      <td>1</td>\n",
       "      <td>1</td>\n",
       "      <td>0</td>\n",
       "      <td>0</td>\n",
       "      <td>0</td>\n",
       "    </tr>\n",
       "    <tr>\n",
       "      <th>30391</th>\n",
       "      <td>19d14cd8dc17adc0</td>\n",
       "      <td>xclick</td>\n",
       "      <td>/m/02wbm</td>\n",
       "      <td>1</td>\n",
       "      <td>0.194118</td>\n",
       "      <td>0.920588</td>\n",
       "      <td>0.190687</td>\n",
       "      <td>0.824834</td>\n",
       "      <td>1</td>\n",
       "      <td>0</td>\n",
       "      <td>0</td>\n",
       "      <td>0</td>\n",
       "      <td>0</td>\n",
       "    </tr>\n",
       "    <tr>\n",
       "      <th>70524</th>\n",
       "      <td>3b5640d56841b0e4</td>\n",
       "      <td>xclick</td>\n",
       "      <td>/m/02wbm</td>\n",
       "      <td>1</td>\n",
       "      <td>0.367257</td>\n",
       "      <td>0.690265</td>\n",
       "      <td>0.547864</td>\n",
       "      <td>0.662739</td>\n",
       "      <td>1</td>\n",
       "      <td>0</td>\n",
       "      <td>0</td>\n",
       "      <td>0</td>\n",
       "      <td>0</td>\n",
       "    </tr>\n",
       "    <tr>\n",
       "      <th>...</th>\n",
       "      <td>...</td>\n",
       "      <td>...</td>\n",
       "      <td>...</td>\n",
       "      <td>...</td>\n",
       "      <td>...</td>\n",
       "      <td>...</td>\n",
       "      <td>...</td>\n",
       "      <td>...</td>\n",
       "      <td>...</td>\n",
       "      <td>...</td>\n",
       "      <td>...</td>\n",
       "      <td>...</td>\n",
       "      <td>...</td>\n",
       "    </tr>\n",
       "    <tr>\n",
       "      <th>63141</th>\n",
       "      <td>3549daaca0d0556f</td>\n",
       "      <td>xclick</td>\n",
       "      <td>/m/02wbm</td>\n",
       "      <td>1</td>\n",
       "      <td>0.000000</td>\n",
       "      <td>1.000000</td>\n",
       "      <td>0.201527</td>\n",
       "      <td>0.374046</td>\n",
       "      <td>1</td>\n",
       "      <td>1</td>\n",
       "      <td>1</td>\n",
       "      <td>0</td>\n",
       "      <td>0</td>\n",
       "    </tr>\n",
       "    <tr>\n",
       "      <th>85698</th>\n",
       "      <td>47dba198f9d76f1f</td>\n",
       "      <td>xclick</td>\n",
       "      <td>/m/02wbm</td>\n",
       "      <td>1</td>\n",
       "      <td>0.160938</td>\n",
       "      <td>0.831250</td>\n",
       "      <td>0.014583</td>\n",
       "      <td>0.893750</td>\n",
       "      <td>0</td>\n",
       "      <td>0</td>\n",
       "      <td>0</td>\n",
       "      <td>0</td>\n",
       "      <td>0</td>\n",
       "    </tr>\n",
       "    <tr>\n",
       "      <th>163055</th>\n",
       "      <td>89f81119b54c2448</td>\n",
       "      <td>xclick</td>\n",
       "      <td>/m/02wbm</td>\n",
       "      <td>1</td>\n",
       "      <td>0.690625</td>\n",
       "      <td>0.807813</td>\n",
       "      <td>0.562500</td>\n",
       "      <td>0.710417</td>\n",
       "      <td>1</td>\n",
       "      <td>0</td>\n",
       "      <td>0</td>\n",
       "      <td>0</td>\n",
       "      <td>0</td>\n",
       "    </tr>\n",
       "    <tr>\n",
       "      <th>83501</th>\n",
       "      <td>46168164054d505e</td>\n",
       "      <td>xclick</td>\n",
       "      <td>/m/02wbm</td>\n",
       "      <td>1</td>\n",
       "      <td>0.360938</td>\n",
       "      <td>0.767188</td>\n",
       "      <td>0.466667</td>\n",
       "      <td>0.645833</td>\n",
       "      <td>0</td>\n",
       "      <td>0</td>\n",
       "      <td>1</td>\n",
       "      <td>0</td>\n",
       "      <td>0</td>\n",
       "    </tr>\n",
       "    <tr>\n",
       "      <th>39910</th>\n",
       "      <td>21a3d3f406a07f2c</td>\n",
       "      <td>xclick</td>\n",
       "      <td>/m/02wbm</td>\n",
       "      <td>1</td>\n",
       "      <td>0.000000</td>\n",
       "      <td>1.000000</td>\n",
       "      <td>0.031250</td>\n",
       "      <td>1.000000</td>\n",
       "      <td>0</td>\n",
       "      <td>1</td>\n",
       "      <td>0</td>\n",
       "      <td>0</td>\n",
       "      <td>0</td>\n",
       "    </tr>\n",
       "  </tbody>\n",
       "</table>\n",
       "<p>500 rows × 13 columns</p>\n",
       "</div>"
      ],
      "text/plain": [
       "                 ImageID  Source LabelName  Confidence      XMin      XMax  \\\n",
       "132329  6f700bc8da18e376  xclick  /m/02wbm           1  0.018945  1.000000   \n",
       "71212   3bd62655fafb1274  xclick  /m/02wbm           1  0.090625  0.889062   \n",
       "117888  6340c116815797cb  xclick  /m/02wbm           1  0.000000  1.000000   \n",
       "30391   19d14cd8dc17adc0  xclick  /m/02wbm           1  0.194118  0.920588   \n",
       "70524   3b5640d56841b0e4  xclick  /m/02wbm           1  0.367257  0.690265   \n",
       "...                  ...     ...       ...         ...       ...       ...   \n",
       "63141   3549daaca0d0556f  xclick  /m/02wbm           1  0.000000  1.000000   \n",
       "85698   47dba198f9d76f1f  xclick  /m/02wbm           1  0.160938  0.831250   \n",
       "163055  89f81119b54c2448  xclick  /m/02wbm           1  0.690625  0.807813   \n",
       "83501   46168164054d505e  xclick  /m/02wbm           1  0.360938  0.767188   \n",
       "39910   21a3d3f406a07f2c  xclick  /m/02wbm           1  0.000000  1.000000   \n",
       "\n",
       "            YMin      YMax  IsOccluded  IsTruncated  IsGroupOf  IsDepiction  \\\n",
       "132329  0.069880  1.000000           0            1          0            0   \n",
       "71212   0.100000  0.939583           0            0          0            0   \n",
       "117888  0.000000  0.931250           1            1          0            0   \n",
       "30391   0.190687  0.824834           1            0          0            0   \n",
       "70524   0.547864  0.662739           1            0          0            0   \n",
       "...          ...       ...         ...          ...        ...          ...   \n",
       "63141   0.201527  0.374046           1            1          1            0   \n",
       "85698   0.014583  0.893750           0            0          0            0   \n",
       "163055  0.562500  0.710417           1            0          0            0   \n",
       "83501   0.466667  0.645833           0            0          1            0   \n",
       "39910   0.031250  1.000000           0            1          0            0   \n",
       "\n",
       "        IsInside  \n",
       "132329         0  \n",
       "71212          1  \n",
       "117888         0  \n",
       "30391          0  \n",
       "70524          0  \n",
       "...          ...  \n",
       "63141          0  \n",
       "85698          0  \n",
       "163055         0  \n",
       "83501          0  \n",
       "39910          0  \n",
       "\n",
       "[500 rows x 13 columns]"
      ]
     },
     "execution_count": 14,
     "metadata": {},
     "output_type": "execute_result"
    }
   ],
   "source": [
    "df_val = pd.read_csv(\"validation-annotations-bbox.csv\")\n",
    "df_val = df_val[df_val[\"LabelName\"] == \"/m/02wbm\"]\n",
    "df_val = df_val.sample(500)\n",
    "df_val"
   ]
  },
  {
   "cell_type": "code",
   "execution_count": null,
   "id": "50733da3-95da-46d4-b6ef-9d4961c60a54",
   "metadata": {},
   "outputs": [],
   "source": [
    "df_train = pd.read_csv(\"oidv6-train-annotations-bbox.csv\")\n",
    "df_train = df_train[df_train[\"LabelName\"] == \"/m/02wbm\"]\n",
    "df_train = df_train.sample(5000)\n",
    "df_train"
   ]
  },
  {
   "cell_type": "code",
   "execution_count": null,
   "id": "a93b6c1b-3a49-49d2-a5b5-e63186a20d99",
   "metadata": {},
   "outputs": [],
   "source": [
    "def xyxy_to_xywh(row):\n",
    "    x_min, x_max, y_min, y_max = row[\"XMin\"], row[\"XMax\"], row[\"YMin\"], row[\"YMax\"]\n",
    "\n",
    "    width = x_max - x_min\n",
    "    height = y_max - y_min\n",
    "\n",
    "    center_x = (x_min + x_max) / 2\n",
    "    center_y = (y_min + y_max) / 2\n",
    "\n",
    "    return center_x, center_y, width, height"
   ]
  },
  {
   "cell_type": "code",
   "execution_count": null,
   "id": "ca561f8c-b4a3-46fd-a8a6-926b11842489",
   "metadata": {},
   "outputs": [],
   "source": [
    "def save_labels(df, path):\n",
    "    os.makedirs(path, exist_ok=True)\n",
    "\n",
    "    annotations = {}\n",
    "\n",
    "    for _, row in df.iterrows():\n",
    "        x, y, w, h = xyxy_to_xywh(row)\n",
    "        im_id = row[\"ImageID\"]\n",
    "        if im_id not in annotations:\n",
    "            annotations[im_id] = f\"0 {x:.4f} {y:.4f} {w:.4f} {h:.4f}\"\n",
    "        else:\n",
    "            annotations[im_id] += f\"\\n0 {x:.4f} {y:.4f} {w:.4f} {h:.4f}\"\n",
    "\n",
    "    for im_id, txt in annotations.items():\n",
    "        filepath = os.path.join(path, str(im_id) + \".txt\")\n",
    "        with open(filepath, \"w\") as f:\n",
    "            f.write(txt)"
   ]
  },
  {
   "cell_type": "code",
   "execution_count": null,
   "id": "2bba7503-9532-4926-adc0-4da300d5da89",
   "metadata": {},
   "outputs": [],
   "source": [
    "save_labels(df_val, \"labels/val\")"
   ]
  },
  {
   "cell_type": "code",
   "execution_count": null,
   "id": "5c9f0d77-f5b7-4140-8393-19bd7b13ee16",
   "metadata": {},
   "outputs": [],
   "source": [
    "save_labels(df_train, \"labels/train\")"
   ]
  },
  {
   "cell_type": "code",
   "execution_count": null,
   "id": "146c3292-9e53-4b19-8307-95de865c38bc",
   "metadata": {},
   "outputs": [],
   "source": [
    "with open(\"val_img_ids.txt\", \"w\") as f:\n",
    "    img_ids = [\"validation/\" + im_id for im_id in df_val[\"ImageID\"].unique()]\n",
    "    txt = \"\\n\".join(img_ids)\n",
    "    f.write(txt)"
   ]
  },
  {
   "cell_type": "code",
   "execution_count": null,
   "id": "9df4333b-5af7-4f6c-a01a-919b847dbdcc",
   "metadata": {},
   "outputs": [],
   "source": [
    "with open(\"train_img_ids.txt\", \"w\") as f:\n",
    "    img_ids = [\"train/\" + im_id for im_id in df_train[\"ImageID\"].unique()]\n",
    "    txt = \"\\n\".join(img_ids)\n",
    "    f.write(txt)"
   ]
  },
  {
   "cell_type": "code",
   "execution_count": null,
   "id": "b4fbd146-f0d0-4390-a2c0-6f7022261f50",
   "metadata": {},
   "outputs": [],
   "source": [
    "!python downloader.py \\\n",
    "    --download_folder images/val \\\n",
    "    val_img_ids.txt"
   ]
  },
  {
   "cell_type": "code",
   "execution_count": null,
   "id": "fc3b0e76-268a-4ac8-8827-e979d719a490",
   "metadata": {},
   "outputs": [],
   "source": [
    "!ls images/val | wc"
   ]
  },
  {
   "cell_type": "code",
   "execution_count": 24,
   "id": "3f838818-46c8-4199-8f66-f1a39baec4fc",
   "metadata": {},
   "outputs": [
    {
     "name": "stdout",
     "output_type": "stream",
     "text": [
      "Downloading images: 100%|███████████████████| 3947/3947 [05:02<00:00, 13.06it/s]\n"
     ]
    }
   ],
   "source": [
    "!python downloader.py \\\n",
    "    --download_folder images/train \\\n",
    "    train_img_ids.txt"
   ]
  },
  {
   "cell_type": "code",
   "execution_count": 25,
   "id": "5a8a7239-7ee7-4cd9-b8f5-2b7201cf9336",
   "metadata": {},
   "outputs": [
    {
     "name": "stdout",
     "output_type": "stream",
     "text": [
      "   3947    3947   82887\n"
     ]
    }
   ],
   "source": [
    "!ls images/train | wc"
   ]
  },
  {
   "cell_type": "code",
   "execution_count": 122,
   "id": "ca020a1f-0e1d-4afa-8a8f-f9929869025e",
   "metadata": {},
   "outputs": [
    {
     "data": {
      "text/plain": [
       "'/root/wojtek/mro/mro_yolo/OID_mid'"
      ]
     },
     "execution_count": 122,
     "metadata": {},
     "output_type": "execute_result"
    }
   ],
   "source": [
    "%pwd"
   ]
  },
  {
   "cell_type": "code",
   "execution_count": 126,
   "id": "7a6d7ef7-addf-4465-886d-6d4ba636de08",
   "metadata": {},
   "outputs": [
    {
     "name": "stdout",
     "output_type": "stream",
     "text": [
      "Overwriting oid.yaml\n"
     ]
    }
   ],
   "source": [
    "%%writefile oid.yaml\n",
    "\n",
    "path: /root/wojtek/mro/mro_yolo/OID_mid\n",
    "train: images/train\n",
    "val: images/val\n",
    "test: \n",
    "\n",
    "names:\n",
    "  0: Food\n"
   ]
  },
  {
   "cell_type": "code",
   "execution_count": null,
   "id": "e062114f-6afa-41f1-9a4d-562d418b6b60",
   "metadata": {},
   "outputs": [],
   "source": []
  }
 ],
 "metadata": {
  "kernelspec": {
   "display_name": "Python 3 (ipykernel)",
   "language": "python",
   "name": "python3"
  },
  "language_info": {
   "codemirror_mode": {
    "name": "ipython",
    "version": 3
   },
   "file_extension": ".py",
   "mimetype": "text/x-python",
   "name": "python",
   "nbconvert_exporter": "python",
   "pygments_lexer": "ipython3",
   "version": "3.10.13"
  }
 },
 "nbformat": 4,
 "nbformat_minor": 5
}
