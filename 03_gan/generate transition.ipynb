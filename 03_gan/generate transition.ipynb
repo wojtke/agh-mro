{
 "cells": [
  {
   "cell_type": "code",
   "execution_count": 1,
   "id": "f6d251e1-9ced-4b32-881d-dec3826227bf",
   "metadata": {},
   "outputs": [],
   "source": [
    "import numpy as np\n",
    "import os\n",
    "import torch\n",
    "import lovely_tensors as lt\n",
    "import torch\n",
    "import torch.nn as nn\n",
    "import torch.optim as optim\n",
    "from torchvision import transforms\n",
    "from PIL import Image\n",
    "\n",
    "import torchvision.transforms.functional as TF\n",
    "\n",
    "lt.monkey_patch()"
   ]
  },
  {
   "cell_type": "code",
   "execution_count": 2,
   "id": "bccd9c4f-14ef-43a2-af1e-efc048934b51",
   "metadata": {},
   "outputs": [],
   "source": [
    "from model import Generator\n",
    "\n",
    "gen = Generator()\n",
    "\n",
    "checkpoint = \"runs/celestial-river-3/gen_02500.pt\"\n",
    "gen.load_state_dict(torch.load(checkpoint))\n",
    "gen = gen.eval().cuda()"
   ]
  },
  {
   "cell_type": "code",
   "execution_count": 3,
   "id": "6b04bb28-0658-43bb-b4a2-20914ba9fe07",
   "metadata": {},
   "outputs": [],
   "source": [
    "from torchvision import transforms\n",
    "from PIL import Image\n",
    "\n",
    "transform = transforms.Compose(\n",
    "    [\n",
    "        transforms.Resize((32, 32)),\n",
    "        transforms.ToTensor(),\n",
    "        transforms.Normalize(mean=[0.5, 0.5, 0.5], std=[0.5, 0.5, 0.5]),\n",
    "    ]\n",
    ")"
   ]
  },
  {
   "cell_type": "code",
   "execution_count": 4,
   "id": "d02e08b5-221e-4e03-9bdd-73f59bf8a3ce",
   "metadata": {},
   "outputs": [],
   "source": [
    "def approximate_gen_seed(real_image, save_evolution=False):\n",
    "    x = torch.normal(0, 1, [1, gen.fc.in_features]).cuda()\n",
    "\n",
    "    criterion = nn.HuberLoss(delta=0.1)\n",
    "    optimizer = optim.SGD([x.requires_grad_()], lr=0.5, momentum=0.9)\n",
    "\n",
    "    image_evolution = []\n",
    "\n",
    "    for step in range(10000):\n",
    "        optimizer.zero_grad()\n",
    "        fake_image = gen(x)\n",
    "\n",
    "        if step % 100 == 0 and save_evolution:\n",
    "            image_evolution.append(fake_image.squeeze(0).detach().clone())\n",
    "\n",
    "        loss = criterion(fake_image, real_image)\n",
    "        loss.backward()\n",
    "        print(f\"step={step:06d} loss={loss.item():.4f}\", end=\" \" * 10 + \"\\r\")\n",
    "        optimizer.step()\n",
    "\n",
    "    if save_evolution:\n",
    "        image_evolution = [(im + 1) / 2 for im in image_evolution]\n",
    "        image_evolution = [TF.to_pil_image(im) for im in image_evolution]\n",
    "\n",
    "        os.makedirs(\"generated_imgs/evolution\", exist_ok=True)\n",
    "        for i, im in enumerate(image_evolution):\n",
    "            im.save(f\"generated_imgs/evolution/{i:05d}.jpg\")\n",
    "\n",
    "    return x"
   ]
  },
  {
   "cell_type": "code",
   "execution_count": 5,
   "id": "fc5994d4-1021-464a-9bc5-aa64910ae3b2",
   "metadata": {
    "scrolled": true
   },
   "outputs": [
    {
     "data": {
      "image/png": "[encoded data removed]",
      "text/plain": [
       "<lovely_tensors.repr_rgb.RGBProxy at 0x7fbdb32b2bf0>"
      ]
     },
     "execution_count": 5,
     "metadata": {},
     "output_type": "execute_result"
    }
   ],
   "source": [
    "real_image_1 = transform(Image.open(\"dataset/crawled_cakes/015_a1ac77f0.jpg\")).cuda().unsqueeze(0)\n",
    "(real_image_1 / 2 + 0.5).rgb(scale=5)"
   ]
  },
  {
   "cell_type": "code",
   "execution_count": 6,
   "id": "a2be30ee-ac81-4374-8e43-2f07da34b563",
   "metadata": {},
   "outputs": [
    {
     "name": "stdout",
     "output_type": "stream",
     "text": [
      "step=009999 loss=0.0158          \r"
     ]
    },
    {
     "data": {
      "text/plain": [
       "tensor[1, 64] x∈[-4.566, 4.058] μ=-0.127 σ=1.971 grad cuda:0"
      ]
     },
     "execution_count": 6,
     "metadata": {},
     "output_type": "execute_result"
    }
   ],
   "source": [
    "x_1 = approximate_gen_seed(real_image_1, save_evolution=True)\n",
    "x_1"
   ]
  },
  {
   "cell_type": "code",
   "execution_count": 7,
   "id": "90a61c0d-5769-4835-9dac-e8cea425942a",
   "metadata": {},
   "outputs": [
    {
     "data": {
      "image/png": "[encoded data removed]",
      "text/plain": [
       "<lovely_tensors.repr_rgb.RGBProxy at 0x7fbdb32b3670>"
      ]
     },
     "execution_count": 7,
     "metadata": {},
     "output_type": "execute_result"
    }
   ],
   "source": [
    "fake_image_1 = gen(x_1)\n",
    "(fake_image_1 / 2 + 0.5).rgb(scale=5)"
   ]
  },
  {
   "cell_type": "code",
   "execution_count": 8,
   "id": "641240ae-fd64-4d1b-817d-8b15eb3a4285",
   "metadata": {},
   "outputs": [
    {
     "data": {
      "image/png": "[encoded data removed]",
      "text/plain": [
       "<lovely_tensors.repr_rgb.RGBProxy at 0x7fbdb31c88b0>"
      ]
     },
     "execution_count": 8,
     "metadata": {},
     "output_type": "execute_result"
    }
   ],
   "source": [
    "x_1_modified = x_1.detach()\n",
    "x_1_modified[0, 0] = 10\n",
    "x_1_modified[0, 1] = -5\n",
    "x_1_modified[0, 2] = 0\n",
    "\n",
    "img = gen(x_1_modified)\n",
    "(img / 2 + 0.5).rgb(scale=5)"
   ]
  },
  {
   "cell_type": "code",
   "execution_count": 9,
   "id": "b30ade6c-ea99-4c03-80ed-b0af29e1ab8d",
   "metadata": {},
   "outputs": [
    {
     "data": {
      "image/png": "[encoded data removed]",
      "text/plain": [
       "<lovely_tensors.repr_rgb.RGBProxy at 0x7fbdac1271f0>"
      ]
     },
     "execution_count": 9,
     "metadata": {},
     "output_type": "execute_result"
    }
   ],
   "source": [
    "real_image_2 = transform(Image.open(\"dataset/crawled_cakes/981_bb56bb77.jpg\")).cuda().unsqueeze(0)\n",
    "(real_image_2 / 2 + 0.5).rgb(scale=5)"
   ]
  },
  {
   "cell_type": "code",
   "execution_count": 10,
   "id": "bf019cec-765d-451b-84af-2592745e404b",
   "metadata": {},
   "outputs": [
    {
     "name": "stdout",
     "output_type": "stream",
     "text": [
      "step=009999 loss=0.0147          \r"
     ]
    },
    {
     "data": {
      "text/plain": [
       "tensor[1, 64] x∈[-4.972, 2.827] μ=-0.402 σ=1.615 grad cuda:0"
      ]
     },
     "execution_count": 10,
     "metadata": {},
     "output_type": "execute_result"
    }
   ],
   "source": [
    "x_2 = approximate_gen_seed(real_image_2)\n",
    "x_2"
   ]
  },
  {
   "cell_type": "code",
   "execution_count": 11,
   "id": "3be867ec-a091-455e-81b7-a57182745f19",
   "metadata": {},
   "outputs": [
    {
     "data": {
      "image/png": "[encoded data removed]",
      "text/plain": [
       "<lovely_tensors.repr_rgb.RGBProxy at 0x7fbdb32b3160>"
      ]
     },
     "execution_count": 11,
     "metadata": {},
     "output_type": "execute_result"
    }
   ],
   "source": [
    "fake_image_2 = gen(x_2)\n",
    "(fake_image_2 / 2 + 0.5).rgb(scale=5)"
   ]
  },
  {
   "cell_type": "code",
   "execution_count": 12,
   "id": "f8643c40-1e69-4c2f-b2af-af7095cd610a",
   "metadata": {},
   "outputs": [],
   "source": [
    "x_1_2 = [torch.linspace(a.item(), b.item(), 100) for a, b in zip(x_1[0], x_2[0])]\n",
    "x_1_2 = torch.stack(x_1_2, dim=1).cuda()\n",
    "transition = gen(x_1_2)\n",
    "transition = [TF.to_pil_image(f / 2 + 0.5) for f in transition]"
   ]
  },
  {
   "cell_type": "code",
   "execution_count": 13,
   "id": "5188fe35-2308-49be-8b49-ea88f5a5e926",
   "metadata": {},
   "outputs": [],
   "source": [
    "os.makedirs(\"generated_imgs/transition\", exist_ok=True)\n",
    "for i, im in enumerate(transition):\n",
    "    im.save(f\"generated_imgs/transition/{i:05d}.jpg\")"
   ]
  },
  {
   "cell_type": "code",
   "execution_count": 14,
   "id": "c5411f30-f75d-412b-bb48-c71e7eb697cb",
   "metadata": {},
   "outputs": [
    {
     "name": "stdout",
     "output_type": "stream",
     "text": [
      "GIF saved as transition.gif\n"
     ]
    }
   ],
   "source": [
    "%run create_gif.py generated_imgs/transition -o transition.gif"
   ]
  },
  {
   "cell_type": "code",
   "execution_count": null,
   "id": "d4553245-db59-445b-b271-2feb2f5b2892",
   "metadata": {},
   "outputs": [],
   "source": []
  }
 ],
 "metadata": {
  "kernelspec": {
   "display_name": "Python 3 (ipykernel)",
   "language": "python",
   "name": "python3"
  },
  "language_info": {
   "codemirror_mode": {
    "name": "ipython",
    "version": 3
   },
   "file_extension": ".py",
   "mimetype": "text/x-python",
   "name": "python",
   "nbconvert_exporter": "python",
   "pygments_lexer": "ipython3",
   "version": "3.10.13"
  }
 },
 "nbformat": 4,
 "nbformat_minor": 5
}
